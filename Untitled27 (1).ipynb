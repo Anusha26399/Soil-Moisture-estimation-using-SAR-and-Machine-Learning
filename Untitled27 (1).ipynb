{
  "nbformat": 4,
  "nbformat_minor": 0,
  "metadata": {
    "colab": {
      "provenance": []
    },
    "kernelspec": {
      "name": "python3",
      "display_name": "Python 3"
    },
    "language_info": {
      "name": "python"
    }
  },
  "cells": [
    {
      "cell_type": "code",
      "source": [
        "#VV\n",
        "import pandas as pd\n",
        "from sklearn.model_selection import train_test_split\n",
        "from sklearn.tree import DecisionTreeRegressor\n",
        "from sklearn.metrics import mean_squared_error, r2_score\n",
        "from sklearn.impute import SimpleImputer\n",
        "from sklearn.preprocessing import OneHotEncoder\n",
        "from sklearn.compose import ColumnTransformer\n",
        "\n",
        "# Load your preprocessed SAR image data\n",
        "data = pd.read_csv('/content/Soilmoisture gt data1.csv')\n",
        "\n",
        "# Select relevant columns excluding Sigma0_VH_db (31.01.2024)\n",
        "X = data[['Elevation (in m above MSL)', 'Sigma0_VV_db (31.01.2024)', 'LULC']]\n",
        "y = data['Moisture Reading']\n",
        "\n",
        "# Split the data into training and testing sets\n",
        "X_train, X_test, y_train, y_test = train_test_split(X, y, test_size=0.2, random_state=42)\n",
        "\n",
        "# Handle missing values\n",
        "imputer = SimpleImputer(strategy='mean')\n",
        "X_train[['Sigma0_VV_db (31.01.2024)']] = imputer.fit_transform(X_train[['Sigma0_VV_db (31.01.2024)']])\n",
        "X_test[['Sigma0_VV_db (31.01.2024)']] = imputer.transform(X_test[['Sigma0_VV_db (31.01.2024)']])\n",
        "\n",
        "# Convert categorical columns to one-hot encoding\n",
        "encoder = ColumnTransformer(\n",
        "    transformers=[\n",
        "        ('onehot', OneHotEncoder(), ['LULC'])\n",
        "    ],\n",
        "    remainder='passthrough'\n",
        ")\n",
        "X_train_encoded = encoder.fit_transform(X_train)\n",
        "X_test_encoded = encoder.transform(X_test)\n",
        "\n",
        "# Create a Decision Tree regression model\n",
        "dt_model = DecisionTreeRegressor(random_state=42)\n",
        "\n",
        "# Drop rows with NaN values in y_train\n",
        "nan_indices = y_train.index[y_train.isna()]\n",
        "X_train_encoded = X_train_encoded[~y_train.isna()]\n",
        "y_train = y_train.dropna()\n",
        "\n",
        "# Train the model\n",
        "dt_model.fit(X_train_encoded, y_train)\n",
        "\n",
        "# Drop rows with NaN values in y_test\n",
        "nan_indices = y_test.index[y_test.isna()]\n",
        "X_test_encoded = X_test_encoded[~y_test.isna()]\n",
        "y_test = y_test.dropna()\n",
        "\n",
        "# Make predictions\n",
        "y_pred = dt_model.predict(X_test_encoded)\n",
        "\n",
        "# Evaluate the model\n",
        "mse = mean_squared_error(y_test, y_pred)\n",
        "r2 = r2_score(y_test, y_pred)\n",
        "\n",
        "print(\"Mean Squared Error:\", mse)\n",
        "print(\"R-squared:\", r2)\n",
        "\n",
        "from scipy.stats import pearsonr\n",
        "\n",
        "# Calculate the coefficient of correlation\n",
        "correlation_coefficient, _ = pearsonr(y_pred, y_test)\n",
        "\n",
        "print(\"Coefficient of correlation:\", correlation_coefficient)\n"
      ],
      "metadata": {
        "colab": {
          "base_uri": "https://localhost:8080/"
        },
        "id": "c4_RkrbraBv-",
        "outputId": "7c0b9c6b-a51d-4fce-f6e2-c7767c0368ef"
      },
      "execution_count": null,
      "outputs": [
        {
          "output_type": "stream",
          "name": "stdout",
          "text": [
            "Mean Squared Error: 9.723427450980395\n",
            "R-squared: 0.8910621753837689\n",
            "Coefficient of correlation: 0.9621517467298256\n"
          ]
        }
      ]
    },
    {
      "cell_type": "code",
      "source": [
        "import pickle\n",
        "\n",
        "# Define the code as a string\n",
        "code = '''\n",
        "import pandas as pd\n",
        "from sklearn.model_selection import train_test_split\n",
        "from sklearn.tree import DecisionTreeRegressor\n",
        "from sklearn.metrics import mean_squared_error, r2_score\n",
        "from sklearn.impute import SimpleImputer\n",
        "from sklearn.preprocessing import OneHotEncoder\n",
        "from sklearn.compose import ColumnTransformer\n",
        "\n",
        "# Load your preprocessed SAR image data\n",
        "data = pd.read_csv('/content/Soilmoisture gt data1.csv')\n",
        "\n",
        "# Select relevant columns excluding Sigma0_VH_db (31.01.2024)\n",
        "X = data[['Elevation (in m above MSL)', 'Sigma0_VV_db (31.01.2024)', 'LULC']]\n",
        "y = data['Moisture Reading']\n",
        "\n",
        "# Split the data into training and testing sets\n",
        "X_train, X_test, y_train, y_test = train_test_split(X, y, test_size=0.2, random_state=42)\n",
        "\n",
        "# Handle missing values\n",
        "imputer = SimpleImputer(strategy='mean')\n",
        "X_train[['Sigma0_VV_db (31.01.2024)']] = imputer.fit_transform(X_train[['Sigma0_VV_db (31.01.2024)']])\n",
        "X_test[['Sigma0_VV_db (31.01.2024)']] = imputer.transform(X_test[['Sigma0_VV_db (31.01.2024)']])\n",
        "\n",
        "# Convert categorical columns to one-hot encoding\n",
        "encoder = ColumnTransformer(\n",
        "    transformers=[\n",
        "        ('onehot', OneHotEncoder(), ['LULC'])\n",
        "    ],\n",
        "    remainder='passthrough'\n",
        ")\n",
        "X_train_encoded = encoder.fit_transform(X_train)\n",
        "X_test_encoded = encoder.transform(X_test)\n",
        "\n",
        "# Create a Decision Tree regression model\n",
        "dt_model = DecisionTreeRegressor(random_state=42)\n",
        "\n",
        "# Drop rows with NaN values in y_train\n",
        "nan_indices = y_train.index[y_train.isna()]\n",
        "X_train_encoded = X_train_encoded[~y_train.isna()]\n",
        "y_train = y_train.dropna()\n",
        "\n",
        "# Train the model\n",
        "dt_model.fit(X_train_encoded, y_train)\n",
        "\n",
        "# Drop rows with NaN values in y_test\n",
        "nan_indices = y_test.index[y_test.isna()]\n",
        "X_test_encoded = X_test_encoded[~y_test.isna()]\n",
        "y_test = y_test.dropna()\n",
        "\n",
        "# Make predictions\n",
        "y_pred = dt_model.predict(X_test_encoded)\n",
        "\n",
        "# Evaluate the model\n",
        "mse = mean_squared_error(y_test, y_pred)\n",
        "r2 = r2_score(y_test, y_pred)\n",
        "\n",
        "print(\"Mean Squared Error:\", mse)\n",
        "print(\"R-squared:\", r2)\n",
        "\n",
        "from scipy.stats import pearsonr\n",
        "\n",
        "# Calculate the coefficient of correlation\n",
        "correlation_coefficient, _ = pearsonr(y_pred, y_test)\n",
        "\n",
        "print(\"Coefficient of correlation:\", correlation_coefficient)\n",
        "\n",
        "# Export the decision tree as text\n",
        "feature_names_out = encoder.get_feature_names_out()\n",
        "feature_names_list = list(feature_names_out)\n",
        "tree_rules = export_text(dt_model, feature_names=feature_names_list)\n",
        "print(tree_rules)\n",
        "'''\n",
        "\n",
        "# Save the code to a pickle file\n",
        "with open('projectcode.pkl', 'wb') as f:\n",
        "    pickle.dump(code, f)\n"
      ],
      "metadata": {
        "id": "g7cJ0XUa7gyz"
      },
      "execution_count": null,
      "outputs": []
    },
    {
      "cell_type": "code",
      "source": [
        "pip install rasterio"
      ],
      "metadata": {
        "colab": {
          "base_uri": "https://localhost:8080/"
        },
        "id": "FEVfMrCh8yl_",
        "outputId": "b751e9a7-6b59-4e45-c970-e9df09ec8268"
      },
      "execution_count": null,
      "outputs": [
        {
          "output_type": "stream",
          "name": "stdout",
          "text": [
            "Collecting rasterio\n",
            "  Downloading rasterio-1.3.10-cp310-cp310-manylinux2014_x86_64.whl (21.5 MB)\n",
            "\u001b[2K     \u001b[90m━━━━━━━━━━━━━━━━━━━━━━━━━━━━━━━━━━━━━━━━\u001b[0m \u001b[32m21.5/21.5 MB\u001b[0m \u001b[31m49.7 MB/s\u001b[0m eta \u001b[36m0:00:00\u001b[0m\n",
            "\u001b[?25hCollecting affine (from rasterio)\n",
            "  Downloading affine-2.4.0-py3-none-any.whl (15 kB)\n",
            "Requirement already satisfied: attrs in /usr/local/lib/python3.10/dist-packages (from rasterio) (23.2.0)\n",
            "Requirement already satisfied: certifi in /usr/local/lib/python3.10/dist-packages (from rasterio) (2024.2.2)\n",
            "Requirement already satisfied: click>=4.0 in /usr/local/lib/python3.10/dist-packages (from rasterio) (8.1.7)\n",
            "Requirement already satisfied: cligj>=0.5 in /usr/local/lib/python3.10/dist-packages (from rasterio) (0.7.2)\n",
            "Requirement already satisfied: numpy in /usr/local/lib/python3.10/dist-packages (from rasterio) (1.25.2)\n",
            "Collecting snuggs>=1.4.1 (from rasterio)\n",
            "  Downloading snuggs-1.4.7-py3-none-any.whl (5.4 kB)\n",
            "Requirement already satisfied: click-plugins in /usr/local/lib/python3.10/dist-packages (from rasterio) (1.1.1)\n",
            "Requirement already satisfied: setuptools in /usr/local/lib/python3.10/dist-packages (from rasterio) (67.7.2)\n",
            "Requirement already satisfied: pyparsing>=2.1.6 in /usr/local/lib/python3.10/dist-packages (from snuggs>=1.4.1->rasterio) (3.1.2)\n",
            "Installing collected packages: snuggs, affine, rasterio\n",
            "Successfully installed affine-2.4.0 rasterio-1.3.10 snuggs-1.4.7\n"
          ]
        }
      ]
    },
    {
      "cell_type": "code",
      "source": [
        "import pandas as pd\n",
        "from sklearn.tree import DecisionTreeRegressor\n",
        "from sklearn.impute import SimpleImputer\n",
        "from sklearn.preprocessing import OneHotEncoder\n",
        "from sklearn.compose import ColumnTransformer\n",
        "\n",
        "# Load your preprocessed SAR image data\n",
        "data = pd.read_csv('/content/Soilmoisture gt data1.csv')\n",
        "\n",
        "# Select relevant columns excluding Sigma0_VH_db (31.01.2024)\n",
        "X = data[['Elevation (in m above MSL)', 'Sigma0_VV_db (31.01.2024)', 'LULC']]\n",
        "y = data['Moisture Reading']\n",
        "\n",
        "# Handle missing values in features\n",
        "imputer = SimpleImputer(strategy='mean')\n",
        "X[['Sigma0_VV_db (31.01.2024)']] = imputer.fit_transform(X[['Sigma0_VV_db (31.01.2024)']])\n",
        "\n",
        "# Handle missing values in target variable y\n",
        "y_imputer = SimpleImputer(strategy='mean')\n",
        "y = y_imputer.fit_transform(y.values.reshape(-1, 1)).flatten()\n",
        "\n",
        "# Convert categorical columns to one-hot encoding\n",
        "encoder = ColumnTransformer(\n",
        "    transformers=[\n",
        "        ('onehot', OneHotEncoder(), ['LULC'])\n",
        "    ],\n",
        "    remainder='passthrough'\n",
        ")\n",
        "X_encoded = encoder.fit_transform(X)\n",
        "\n",
        "# Create a Decision Tree regression model\n",
        "dt_model = DecisionTreeRegressor(random_state=42)\n",
        "\n",
        "# Train the model\n",
        "dt_model.fit(X_encoded, y)\n",
        "\n",
        "# Load new data from CSV\n",
        "new_data = pd.read_csv('/content/12moisturereading.csv')\n",
        "\n",
        "# Handle missing values in new data\n",
        "new_data[['Sigma0_VV_db (31.01.2024)']] = imputer.transform(new_data[['Sigma0_VV_db (31.01.2024)']])\n",
        "new_data_encoded = encoder.transform(new_data)\n",
        "\n",
        "# Make prediction\n",
        "y_pred_new = dt_model.predict(new_data_encoded)\n",
        "\n",
        "# Print or use the prediction\n",
        "print(\"Predicted moisture readings for new data:\")\n",
        "print(y_pred_new)"
      ],
      "metadata": {
        "colab": {
          "base_uri": "https://localhost:8080/"
        },
        "id": "QQHDrJzWDgrW",
        "outputId": "ef0bcc08-3e1c-413a-baeb-9b4fbde2bb5e"
      },
      "execution_count": null,
      "outputs": [
        {
          "output_type": "stream",
          "name": "stdout",
          "text": [
            "Predicted moisture readings for new data:\n",
            "[11.925      16.66666667  9.25       15.93333333 11.925      37.23333333\n",
            " 19.26666667 18.93333333 16.06666667 20.03333333 16.66666667 16.66666667\n",
            " 19.26666667 34.075       4.73333333  6.4         6.4        11.925\n",
            "  6.4         6.4         6.4         6.4         6.4         6.4\n",
            " 19.26666667 34.075      39.1        17.81481928  9.25       14.15\n",
            " 37.23333333 39.1        15.93333333 13.14       13.14       15.93333333\n",
            " 16.6        16.6        16.6         9.975       9.975      16.6\n",
            "  9.975      17.81481928 19.2         9.25        4.73333333  4.73333333\n",
            " 11.925      11.925      19.2        19.2        37.23333333 18.93333333\n",
            " 20.03333333 16.06666667 19.26666667 19.26666667 19.26666667 18.93333333\n",
            " 16.06666667 18.93333333 18.93333333 18.93333333 20.03333333 17.81481928\n",
            " 34.075      34.075      39.1        19.1        19.1        22.4\n",
            " 22.4        16.66666667 16.66666667 16.66666667 19.1        11.925\n",
            " 17.81481928 19.1         9.25       22.4        19.3        14.15\n",
            " 19.3        11.925      19.3       ]\n",
            "Indices used for training:\n",
            "Index([65], dtype='int64')\n"
          ]
        },
        {
          "output_type": "stream",
          "name": "stderr",
          "text": [
            "<ipython-input-18-67d2c7d3086c>:16: SettingWithCopyWarning: \n",
            "A value is trying to be set on a copy of a slice from a DataFrame.\n",
            "Try using .loc[row_indexer,col_indexer] = value instead\n",
            "\n",
            "See the caveats in the documentation: https://pandas.pydata.org/pandas-docs/stable/user_guide/indexing.html#returning-a-view-versus-a-copy\n",
            "  X[['Sigma0_VV_db (31.01.2024)']] = imputer.fit_transform(X[['Sigma0_VV_db (31.01.2024)']])\n"
          ]
        }
      ]
    },
    {
      "cell_type": "code",
      "source": [
        "# Create a DataFrame with the predicted moisture readings\n",
        "predictions_df = pd.DataFrame(y_pred_new, columns=['Predicted Moisture Reading'])\n",
        "\n",
        "# Concatenate the predictions with the new_data DataFrame\n",
        "predicted_data = pd.concat([new_data, predictions_df], axis=1)\n",
        "\n",
        "# Save the predicted data to a CSV file\n",
        "predicted_data.to_csv('/content/predicted_moisture_readings.csv', index=False)\n"
      ],
      "metadata": {
        "id": "a182MXwPKmjY"
      },
      "execution_count": null,
      "outputs": []
    },
    {
      "cell_type": "code",
      "source": [
        "# Load new data from CSV\n",
        "new_data = pd.read_csv('/content/12moisturereading.csv')\n",
        "\n",
        "# Handle missing values in new data\n",
        "new_data[['Sigma0_VV_db (31.01.2024)']] = imputer.transform(new_data[['Sigma0_VV_db (31.01.2024)']])\n",
        "new_data_encoded = encoder.transform(new_data)\n",
        "\n",
        "# Predict which rows are used\n",
        "is_used = dt_model.predict(new_data_encoded) > 0\n",
        "\n",
        "# Add a new column to new_data indicating if the row was used\n",
        "new_data['Used for Prediction'] = is_used\n",
        "\n",
        "# Make prediction\n",
        "y_pred_new = dt_model.predict(new_data_encoded)\n",
        "\n",
        "# Print or use the prediction\n",
        "print(\"Predicted moisture readings for new data:\")\n",
        "print(y_pred_new)\n",
        "\n",
        "# Save new_data with the added column\n",
        "new_data.to_csv('/content/new_data_with_prediction_indicator.csv', index=False)\n"
      ],
      "metadata": {
        "colab": {
          "base_uri": "https://localhost:8080/"
        },
        "id": "AvTooxLQH2QQ",
        "outputId": "926259b9-4793-4cf3-a359-bdc037ae6763"
      },
      "execution_count": null,
      "outputs": [
        {
          "output_type": "stream",
          "name": "stdout",
          "text": [
            "Predicted moisture readings for new data:\n",
            "[11.925      16.66666667  9.25       15.93333333 11.925      37.23333333\n",
            " 19.26666667 18.93333333 16.06666667 20.03333333 16.66666667 16.66666667\n",
            " 19.26666667 34.075       4.73333333  6.4         6.4        11.925\n",
            "  6.4         6.4         6.4         6.4         6.4         6.4\n",
            " 19.26666667 34.075      39.1        17.81481928  9.25       14.15\n",
            " 37.23333333 39.1        15.93333333 13.14       13.14       15.93333333\n",
            " 16.6        16.6        16.6         9.975       9.975      16.6\n",
            "  9.975      17.81481928 19.2         9.25        4.73333333  4.73333333\n",
            " 11.925      11.925      19.2        19.2        37.23333333 18.93333333\n",
            " 20.03333333 16.06666667 19.26666667 19.26666667 19.26666667 18.93333333\n",
            " 16.06666667 18.93333333 18.93333333 18.93333333 20.03333333 17.81481928\n",
            " 34.075      34.075      39.1        19.1        19.1        22.4\n",
            " 22.4        16.66666667 16.66666667 16.66666667 19.1        11.925\n",
            " 17.81481928 19.1         9.25       22.4        19.3        14.15\n",
            " 19.3        11.925      19.3       ]\n"
          ]
        }
      ]
    },
    {
      "cell_type": "code",
      "source": [
        "import pandas as pd\n",
        "from sklearn.model_selection import train_test_split\n",
        "from sklearn.tree import DecisionTreeRegressor\n",
        "from sklearn.metrics import mean_squared_error, r2_score\n",
        "from sklearn.impute import SimpleImputer\n",
        "from sklearn.preprocessing import OneHotEncoder\n",
        "from sklearn.compose import ColumnTransformer\n",
        "\n",
        "# Load your preprocessed SAR image data\n",
        "data = pd.read_csv('/content/Soilmoisture gt data1.csv')\n",
        "\n",
        "# Select relevant columns excluding Sigma0_VH_db (31.01.2024)\n",
        "X = data[['Elevation (in m above MSL)', 'Sigma0_VV_db (31.01.2024)', 'LULC']]\n",
        "y = data['Moisture Reading']\n",
        "\n",
        "# Split the data into training and testing sets\n",
        "X_train, X_test, y_train, y_test = train_test_split(X, y, test_size=0.2, random_state=42)\n",
        "\n",
        "# Handle missing values\n",
        "imputer = SimpleImputer(strategy='mean')\n",
        "X_train[['Sigma0_VV_db (31.01.2024)']] = imputer.fit_transform(X_train[['Sigma0_VV_db (31.01.2024)']])\n",
        "X_test[['Sigma0_VV_db (31.01.2024)']] = imputer.transform(X_test[['Sigma0_VV_db (31.01.2024)']])\n",
        "\n",
        "# Convert categorical columns to one-hot encoding\n",
        "encoder = ColumnTransformer(\n",
        "    transformers=[\n",
        "        ('onehot', OneHotEncoder(), ['LULC'])\n",
        "    ],\n",
        "    remainder='passthrough'\n",
        ")\n",
        "X_train_encoded = encoder.fit_transform(X_train)\n",
        "X_test_encoded = encoder.transform(X_test)\n",
        "\n",
        "# Create a Decision Tree regression model\n",
        "dt_model = DecisionTreeRegressor(random_state=42)\n",
        "\n",
        "# Drop rows with NaN values in y_train\n",
        "nan_indices = y_train.index[y_train.isna()]\n",
        "X_train_encoded = X_train_encoded[~y_train.isna()]\n",
        "y_train = y_train.dropna()\n",
        "\n",
        "# Train the model\n",
        "dt_model.fit(X_train_encoded, y_train)\n",
        "\n",
        "# Drop rows with NaN values in y_test\n",
        "nan_indices = y_test.index[y_test.isna()]\n",
        "X_test_encoded = X_test_encoded[~y_test.isna()]\n",
        "y_test = y_test.dropna()\n",
        "\n",
        "# Make predictions\n",
        "y_pred = dt_model.predict(X_test_encoded)\n",
        "\n",
        "# Evaluate the model\n",
        "mse = mean_squared_error(y_test, y_pred)\n",
        "r2 = r2_score(y_test, y_pred)\n",
        "\n",
        "print(\"Mean Squared Error:\", mse)\n",
        "print(\"R-squared:\", r2)\n",
        "\n",
        "from scipy.stats import pearsonr\n",
        "\n",
        "# Calculate the coefficient of correlation\n",
        "correlation_coefficient, _ = pearsonr(y_pred, y_test)\n",
        "\n",
        "print(\"Coefficient of correlation:\", correlation_coefficient)\n",
        "\n",
        "# Print the rows used for predicting soil moisture\n",
        "print(\"Rows used for predicting soil moisture:\")\n",
        "print(X_test)\n",
        "\n",
        "# Concatenate X_test and y_test along the columns axis\n",
        "test_data = pd.concat([X_test, y_test], axis=1)\n",
        "\n",
        "# Save the concatenated dataframe to a CSV file\n",
        "test_data.to_csv('/content/test_data_used_for_prediction.csv', index=False)\n",
        "\n",
        "\n"
      ],
      "metadata": {
        "colab": {
          "base_uri": "https://localhost:8080/"
        },
        "id": "8rcJgyC7Fxms",
        "outputId": "bf2a3939-0f6f-4908-b67b-f91d32841a1a"
      },
      "execution_count": null,
      "outputs": [
        {
          "output_type": "stream",
          "name": "stdout",
          "text": [
            "Mean Squared Error: 9.723427450980395\n",
            "R-squared: 0.8910621753837689\n",
            "Coefficient of correlation: 0.9621517467298256\n",
            "Rows used for predicting soil moisture:\n",
            "    Elevation (in m above MSL)  Sigma0_VV_db (31.01.2024)             LULC\n",
            "76                      542.65                      -9.84      Wheat field\n",
            "0                       425.90                     -14.99    Mango Orchard\n",
            "26                      451.89                      -7.03   Ploughed field\n",
            "22                      444.36                      -8.05    Mango Orchard\n",
            "12                      389.23                     -10.40      Wheat field\n",
            "67                      451.89                     -10.97      Wheat field\n",
            "10                      450.90                     -11.34  Sugarcane field\n",
            "18                      444.36                      -8.05    Mango Orchard\n",
            "4                       428.91                      -7.44    Mango Orchard\n",
            "68                      451.89                      -7.03   Ploughed field\n",
            "84                      556.68                     -11.19      Wheat field\n",
            "65                      426.34                     -11.18           Bridge\n",
            "53                      369.35                     -11.08      Wheat field\n",
            "80                      557.98                     -10.86      Wheat field\n",
            "83                      561.29                     -11.99      Wheat field\n",
            "64                      371.65                      -7.48      Wheat field\n",
            "33                      399.70                     -10.90      Rajma field\n",
            "79                      542.65                      -9.84      Wheat field\n"
          ]
        }
      ]
    },
    {
      "cell_type": "code",
      "source": [
        "from osgeo import gdal\n",
        "import numpy as np\n",
        "\n",
        "# Load the actual and predicted TIFF files\n",
        "actual_ds = gdal.Open('/content/final31124map.tif')\n",
        "predicted_ds = gdal.Open('/content/12124mapfinal.tif')\n",
        "import numpy as np\n",
        "from skimage.transform import resize\n",
        "\n",
        "\n",
        "# Read raster data as arrays\n",
        "actual_array = actual_ds.GetRasterBand(1).ReadAsArray()\n",
        "predicted_array = predicted_ds.GetRasterBand(1).ReadAsArray()\n",
        "\n",
        "# Resize actual_array to match the shape of predicted_array\n",
        "actual_array_resized = resize(actual_array, predicted_array.shape, anti_aliasing=True)\n",
        "\n",
        "# Calculate RMSE\n",
        "rmse = np.sqrt(np.mean((predicted_array - actual_array_resized) ** 2))\n",
        "\n",
        "# Calculate R-squared\n",
        "mean_actual = np.mean(actual_array_resized)\n",
        "ss_total = np.sum((actual_array_resized - mean_actual) ** 2)\n",
        "ss_res = np.sum((actual_array_resized - predicted_array) ** 2)\n",
        "r_squared = 1 - (ss_res / ss_total)\n",
        "\n",
        "print(\"Root Mean Squared Error:\", rmse)\n",
        "print(\"R-squared:\", r_squared)\n",
        "\n",
        "# Close the datasets\n",
        "actual_ds = None\n",
        "predicted_ds = None\n",
        "\n"
      ],
      "metadata": {
        "colab": {
          "base_uri": "https://localhost:8080/"
        },
        "id": "3oQXGodnb23M",
        "outputId": "88da90f0-3527-403d-c391-ff08b3398cb6"
      },
      "execution_count": null,
      "outputs": [
        {
          "output_type": "stream",
          "name": "stdout",
          "text": [
            "Root Mean Squared Error: 1.959792\n",
            "R-squared: 1.0\n"
          ]
        }
      ]
    },
    {
      "cell_type": "code",
      "source": [],
      "metadata": {
        "id": "0tbeV3QiuKF7"
      },
      "execution_count": null,
      "outputs": []
    },
    {
      "cell_type": "code",
      "source": [
        "from osgeo import gdal\n",
        "import numpy as np\n",
        "\n",
        "# Load the actual and predicted TIFF files\n",
        "actual_ds = gdal.Open('/content/E04_SAR_MRS_27JAN2024_027004957871_10765_STGCSMHTD_13631_08_D_R_078_031_00_500m.tif')\n",
        "predicted_ds = gdal.Open('/content/12124mapfinal.tif')\n",
        "import numpy as np\n",
        "from skimage.transform import resize\n",
        "\n",
        "\n",
        "# Read raster data as arrays\n",
        "actual_array = actual_ds.GetRasterBand(1).ReadAsArray()\n",
        "predicted_array = predicted_ds.GetRasterBand(1).ReadAsArray()\n",
        "\n",
        "# Resize actual_array to match the shape of predicted_array\n",
        "actual_array_resized = resize(actual_array, predicted_array.shape, anti_aliasing=True)\n",
        "\n",
        "# Calculate RMSE\n",
        "rmse = np.sqrt(np.mean((predicted_array - actual_array_resized) ** 2))\n",
        "\n",
        "# Calculate R-squared\n",
        "mean_actual = np.mean(actual_array_resized)\n",
        "ss_total = np.sum((actual_array_resized - mean_actual) ** 2)\n",
        "ss_res = np.sum((actual_array_resized - predicted_array) ** 2)\n",
        "r_squared = 1 - (ss_res / ss_total)\n",
        "\n",
        "print(\"Root Mean Squared Error:\", rmse)\n",
        "print(\"R-squared:\", r_squared)\n",
        "\n",
        "# Close the datasets\n",
        "actual_ds = None\n",
        "predicted_ds = None\n",
        "\n"
      ],
      "metadata": {
        "colab": {
          "base_uri": "https://localhost:8080/"
        },
        "outputId": "f5f830b9-d9b3-45c0-a187-b1101f1bdcb0",
        "id": "xl54OkkQuNra"
      },
      "execution_count": null,
      "outputs": [
        {
          "output_type": "stream",
          "name": "stdout",
          "text": [
            "Root Mean Squared Error: inf\n",
            "R-squared: -inf\n"
          ]
        },
        {
          "output_type": "stream",
          "name": "stderr",
          "text": [
            "<ipython-input-1-532df7991871>:19: RuntimeWarning: overflow encountered in square\n",
            "  rmse = np.sqrt(np.mean((predicted_array - actual_array_resized) ** 2))\n",
            "<ipython-input-1-532df7991871>:24: RuntimeWarning: overflow encountered in square\n",
            "  ss_res = np.sum((actual_array_resized - predicted_array) ** 2)\n"
          ]
        }
      ]
    },
    {
      "cell_type": "code",
      "source": [
        "from osgeo import gdal\n",
        "import numpy as np\n",
        "from skimage.transform import resize\n",
        "\n",
        "# Load the actual and predicted TIFF files\n",
        "actual_ds = gdal.Open('/content/E04_SAR_MRS_27JAN2024_027004957871_10765_STGCSMHTD_13631_08_D_R_078_031_00_500m.tif')\n",
        "predicted_ds = gdal.Open('/content/12124mapfinal.tif')\n",
        "\n",
        "# Read raster data as arrays\n",
        "actual_array = actual_ds.GetRasterBand(1).ReadAsArray()\n",
        "predicted_array = predicted_ds.GetRasterBand(1).ReadAsArray()\n",
        "\n",
        "# Resize actual_array to match the shape of predicted_array\n",
        "actual_array_resized = resize(actual_array, predicted_array.shape, anti_aliasing=True)\n",
        "\n",
        "# Calculate RMSE\n",
        "rmse = np.sqrt(np.mean((predicted_array - actual_array_resized) ** 2))\n",
        "\n",
        "# Calculate R-squared\n",
        "mean_actual = np.mean(actual_array_resized)\n",
        "ss_total = np.sum((actual_array_resized - mean_actual) ** 2)\n",
        "ss_res = np.sum((actual_array_resized - predicted_array) ** 2)\n",
        "r_squared = 1 - (ss_res / ss_total)\n",
        "\n",
        "print(\"Root Mean Squared Error:\", rmse)\n",
        "print(\"R-squared:\", r_squared)\n",
        "\n",
        "# Get statistics from the attribute table\n",
        "actual_stats = actual_ds.GetRasterBand(1).GetStatistics(0, 1)\n",
        "predicted_stats = predicted_ds.GetRasterBand(1).GetStatistics(0, 1)\n",
        "\n",
        "print(\"Actual Statistics:\", actual_stats)\n",
        "print(\"Predicted Statistics:\", predicted_stats)\n",
        "\n",
        "# Close the datasets\n",
        "actual_ds = None\n",
        "predicted_ds = None\n"
      ],
      "metadata": {
        "id": "0oiBt5o0zS5v",
        "outputId": "2d5f10a3-f712-440c-faa8-5fc1c87c5612",
        "colab": {
          "base_uri": "https://localhost:8080/"
        }
      },
      "execution_count": null,
      "outputs": [
        {
          "output_type": "stream",
          "name": "stdout",
          "text": [
            "Root Mean Squared Error: inf\n",
            "R-squared: -inf\n",
            "Actual Statistics: [-9999.0, 0.6913005709648132, -8561.824137266301, 3507.8465414448237]\n",
            "Predicted Statistics: [4.881261825561523, 39.08750534057617, 17.442583694050835, 3.829281519086117]\n"
          ]
        },
        {
          "output_type": "stream",
          "name": "stderr",
          "text": [
            "<ipython-input-5-3b1c8e44f287>:17: RuntimeWarning: overflow encountered in square\n",
            "  rmse = np.sqrt(np.mean((predicted_array - actual_array_resized) ** 2))\n",
            "<ipython-input-5-3b1c8e44f287>:22: RuntimeWarning: overflow encountered in square\n",
            "  ss_res = np.sum((actual_array_resized - predicted_array) ** 2)\n"
          ]
        }
      ]
    },
    {
      "cell_type": "code",
      "source": [
        "from osgeo import gdal\n",
        "\n",
        "# Open the TIFF file\n",
        "ds = gdal.Open('/content/E04_SAR_MRS_27JAN2024_027004957871_10765_STGCSMHTD_13631_08_D_R_078_031_00_500m.tif')\n",
        "\n",
        "# Read the raster data as an array\n",
        "array = ds.GetRasterBand(1).ReadAsArray()\n",
        "\n",
        "# Print the array\n",
        "print(array)\n",
        "\n",
        "# Close the dataset\n",
        "ds = None\n"
      ],
      "metadata": {
        "colab": {
          "base_uri": "https://localhost:8080/"
        },
        "id": "Jw4CwJ3Yee_Z",
        "outputId": "6b4dfc3d-3fce-4123-ab9a-b65103e311ca"
      },
      "execution_count": null,
      "outputs": [
        {
          "output_type": "stream",
          "name": "stdout",
          "text": [
            "[[-9999. -9999. -9999. ... -9999. -9999. -9999.]\n",
            " [-9999. -9999. -9999. ... -9999. -9999. -9999.]\n",
            " [-9999. -9999. -9999. ... -9999. -9999. -9999.]\n",
            " ...\n",
            " [-9999. -9999. -9999. ... -9999. -9999. -9999.]\n",
            " [-9999. -9999. -9999. ... -9999. -9999. -9999.]\n",
            " [-9999. -9999. -9999. ... -9999. -9999. -9999.]]\n"
          ]
        }
      ]
    },
    {
      "cell_type": "code",
      "source": [
        "from osgeo import gdal\n",
        "\n",
        "# Open the TIFF file\n",
        "ds = gdal.Open('/content/12124mapfinal.tif')\n",
        "\n",
        "# Read the raster data as an array\n",
        "array = ds.GetRasterBand(1).ReadAsArray()\n",
        "\n",
        "# Print the array\n",
        "print(array)\n",
        "\n",
        "# Close the dataset\n",
        "ds = None\n"
      ],
      "metadata": {
        "colab": {
          "base_uri": "https://localhost:8080/"
        },
        "outputId": "4f5b78e8-72e4-4394-e28b-29c630880250",
        "id": "9S4v07sXeoCt"
      },
      "execution_count": null,
      "outputs": [
        {
          "output_type": "stream",
          "name": "stdout",
          "text": [
            "[[ 1.8141230e+01  1.8156471e+01  1.8172104e+01 ...  2.4695681e+01\n",
            "   2.4700022e+01  2.4704197e+01]\n",
            " [ 1.8138565e+01  1.8153961e+01  1.8169760e+01 ...  2.4709770e+01\n",
            "   2.4713963e+01  2.4717989e+01]\n",
            " [ 1.8135509e+01  1.8151047e+01  1.8166998e+01 ...  2.4723969e+01\n",
            "   2.4728008e+01  2.4731884e+01]\n",
            " ...\n",
            " [ 1.4121479e+01  1.4127474e+01  1.4134059e+01 ...  1.2564716e+01\n",
            "   1.2569582e+01  1.2574390e+01]\n",
            " [ 1.4151823e+01  1.4157906e+01  1.4164560e+01 ...  1.2562207e+01\n",
            "   1.2567040e+01  1.2571819e+01]\n",
            " [-3.4028235e+38 -3.4028235e+38 -3.4028235e+38 ... -3.4028235e+38\n",
            "  -3.4028235e+38 -3.4028235e+38]]\n"
          ]
        }
      ]
    },
    {
      "cell_type": "code",
      "source": [
        "from osgeo import gdal\n",
        "\n",
        "# Open the TIFF file\n",
        "ds = gdal.Open('/content/E04_SAR_MRS_27JAN2024_027004957871_10765_STGCSMHTD_13631_08_D_R_078_031_00_500m.tif')\n",
        "\n",
        "# Get the metadata\n",
        "metadata = ds.GetMetadata()\n",
        "\n",
        "# Print the metadata\n",
        "for key, value in metadata.items():\n",
        "    print(f\"{key}: {value}\")\n",
        "\n",
        "# Close the dataset\n",
        "ds = None\n"
      ],
      "metadata": {
        "colab": {
          "base_uri": "https://localhost:8080/"
        },
        "id": "9IRywAe0ysJc",
        "outputId": "9cc58ec8-55de-4962-a68c-9516394e1a64"
      },
      "execution_count": null,
      "outputs": [
        {
          "output_type": "stream",
          "name": "stdout",
          "text": [
            "AREA_OR_POINT: Area\n",
            "TIFFTAG_SOFTWARE: MATLAB 9.12, Mapping Toolbox 5.3\n"
          ]
        }
      ]
    },
    {
      "cell_type": "code",
      "source": [
        "from osgeo import gdal\n",
        "import numpy as np\n",
        "from skimage.transform import resize\n",
        "\n",
        "# Load the actual and predicted TIFF files\n",
        "actual_ds = gdal.Open('/content/E04_SAR_MRS_19JAN2024_019004443558_10644_STGCSMHTD_13462_09_D_R_079_030_00_500m.tif')\n",
        "predicted_ds = gdal.Open('/content/12124mapfinal.tif')\n",
        "\n",
        "# Read raster data as arrays\n",
        "actual_array = actual_ds.GetRasterBand(1).ReadAsArray()\n",
        "predicted_array = predicted_ds.GetRasterBand(1).ReadAsArray()\n",
        "\n",
        "# Resize actual_array to match the shape of predicted_array\n",
        "actual_array_resized = resize(actual_array, predicted_array.shape, anti_aliasing=True)\n",
        "\n",
        "# Calculate RMSE\n",
        "rmse = np.sqrt(np.mean((predicted_array - actual_array_resized) ** 2))\n",
        "\n",
        "# Calculate R-squared\n",
        "mean_actual = np.mean(actual_array_resized)\n",
        "ss_total = np.sum((actual_array_resized - mean_actual) ** 2)\n",
        "ss_res = np.sum((actual_array_resized - predicted_array) ** 2)\n",
        "r_squared = 1 - (ss_res / ss_total)\n",
        "\n",
        "print(\"Root Mean Squared Error:\", rmse)\n",
        "print(\"R-squared:\", r_squared)\n",
        "\n",
        "# Close the datasets\n",
        "actual_ds = None\n",
        "predicted_ds = None\n"
      ],
      "metadata": {
        "colab": {
          "base_uri": "https://localhost:8080/"
        },
        "id": "o-340KW1nLW3",
        "outputId": "8dea0f72-efdc-40ac-eed0-a2ab7c155679"
      },
      "execution_count": null,
      "outputs": [
        {
          "output_type": "stream",
          "name": "stdout",
          "text": [
            "Root Mean Squared Error: inf\n",
            "R-squared: -inf\n"
          ]
        },
        {
          "output_type": "stream",
          "name": "stderr",
          "text": [
            "<ipython-input-3-f0e5a301411a>:17: RuntimeWarning: overflow encountered in square\n",
            "  rmse = np.sqrt(np.mean((predicted_array - actual_array_resized) ** 2))\n",
            "<ipython-input-3-f0e5a301411a>:22: RuntimeWarning: overflow encountered in square\n",
            "  ss_res = np.sum((actual_array_resized - predicted_array) ** 2)\n"
          ]
        }
      ]
    }
  ]
}